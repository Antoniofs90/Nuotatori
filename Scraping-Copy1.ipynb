{
 "cells": [
  {
   "cell_type": "code",
   "execution_count": 1,
   "metadata": {
    "collapsed": true
   },
   "outputs": [],
   "source": [
    "from bs4 import BeautifulSoup\n",
    "import requests\n",
    "import pickle\n",
    "from lxml import html\n",
    "from Swimmer import *\n",
    "import selenium"
   ]
  },
  {
   "cell_type": "code",
   "execution_count": 2,
   "metadata": {
    "collapsed": true
   },
   "outputs": [],
   "source": [
    "from selenium import webdriver\n",
    "from selenium.webdriver.common.keys import Keys\n",
    "from selenium.webdriver.support.ui import Select"
   ]
  },
  {
   "cell_type": "markdown",
   "metadata": {},
   "source": [
    "## Inserire il codice dello stile che si desidera selezionare\n",
    "### Stile Libero:\n",
    "###### \"00\" 50mt, \"01\" 100mt, \"02\" 200mt, \"04\" 400mt, \"08\" 800mt, \"15\" 1500mt\n",
    "### Dorso:\n",
    "##### \"20\" 50mt, \"21\" 100mt, \"22\" 200mt\n",
    "### Rana:\n",
    "##### \"30\" 50mt, \"31\" 100mt, \"32\" 200mt\n",
    "### Farfalla:\n",
    "##### \"40\" 50 mt, \"41\" 100mt, \"42\" 200mt\n",
    "### Misti:\n",
    "##### \"51\" 100mt, \"52\" 200mt, \"54\" 400mt"
   ]
  },
  {
   "cell_type": "code",
   "execution_count": 3,
   "metadata": {
    "collapsed": true
   },
   "outputs": [],
   "source": [
    "Stile = \"02\""
   ]
  },
  {
   "cell_type": "markdown",
   "metadata": {},
   "source": [
    "## Inserire lunghezza vascha"
   ]
  },
  {
   "cell_type": "code",
   "execution_count": 4,
   "metadata": {
    "collapsed": true
   },
   "outputs": [],
   "source": [
    "Vasc = \"50\""
   ]
  },
  {
   "cell_type": "markdown",
   "metadata": {},
   "source": [
    "## Inserire sesso dei nuotatori"
   ]
  },
  {
   "cell_type": "code",
   "execution_count": 5,
   "metadata": {
    "collapsed": true
   },
   "outputs": [],
   "source": [
    "Sex = \"M\""
   ]
  },
  {
   "cell_type": "code",
   "execution_count": 6,
   "metadata": {
    "collapsed": true
   },
   "outputs": [],
   "source": [
    "# Creaiamo una risorsa Browser per poter scaricare i dati\n",
    "url = \"http://online.federnuoto.it/graduatorie/mas_atleti.php\"\n",
    "\n",
    "driver = webdriver.Firefox()\n",
    "\n",
    "driver.get(url)"
   ]
  },
  {
   "cell_type": "code",
   "execution_count": 7,
   "metadata": {},
   "outputs": [],
   "source": [
    "# Selezioniamo le Form e inseriamo i dati al loro interno\n",
    "righe = driver.find_element_by_name(\"txtnurighe\")\n",
    "righe.clear()\n",
    "righe.send_keys(\"999\")\n",
    "annoag = Select(driver.find_element_by_name(\"txtanno\"))\n",
    "annoag.select_by_value(\"ALLTIME\")\n",
    "annoin = driver.find_element_by_name(\"txtdallanno\")\n",
    "annoin.clear()\n",
    "annoin.send_keys(\"1900\")\n",
    "annofin = driver.find_element_by_name(\"txtallanno\")\n",
    "annofin.clear()\n",
    "annofin.send_keys(\"1967\")\n",
    "sesso = Select(driver.find_element_by_name(\"txtsesso\"))\n",
    "sesso.select_by_value(Sex)\n",
    "vasca = Select(driver.find_element_by_name(\"txtvasca\"))\n",
    "vasca.select_by_value(Vasc)\n",
    "gara = Select(driver.find_element_by_name(\"txtgara\"))\n",
    "gara.select_by_value(Stile)"
   ]
  },
  {
   "cell_type": "code",
   "execution_count": 8,
   "metadata": {
    "collapsed": true
   },
   "outputs": [],
   "source": [
    "# Simuliamo l'inserimento dei dati e salviamo il risultato ottenuto\n",
    "driver.find_element_by_name(\"xricerca\").click()\n",
    "\n",
    "content = driver.page_source\n",
    "\n",
    "with open(\"nuotatori_\"+Stile+\".html\", \"w\") as f:\n",
    "    f.write(content)"
   ]
  },
  {
   "cell_type": "code",
   "execution_count": 9,
   "metadata": {
    "collapsed": true
   },
   "outputs": [],
   "source": [
    "#apriamo il file html\n",
    "with open(\"nuotatori_\"+Stile+\".html\") as file:\n",
    "    dirty_strings = file.read()"
   ]
  },
  {
   "cell_type": "code",
   "execution_count": 10,
   "metadata": {
    "collapsed": true
   },
   "outputs": [],
   "source": [
    "dirty_strings = dirty_strings.split(\"onclick=\\\"window.open('\")\n",
    "\n",
    "#filtra i link per ogni nuotatore\n",
    "dirty_strings = list(filter(lambda x: \"mas_schedaris.php\" == x[:len(\"mas_schedaris.php\")],\n",
    "                            dirty_strings))\n"
   ]
  },
  {
   "cell_type": "code",
   "execution_count": 11,
   "metadata": {
    "collapsed": true
   },
   "outputs": [],
   "source": [
    "#crea dei link validi\n",
    "clean_strings = [x.split(\"\\'\")[0] for x in dirty_strings]\n",
    "\n",
    "final_strings = [\"http://online.federnuoto.it/graduatorie/\"+\"&\".join(x.split(\";\")) for x in clean_strings]"
   ]
  },
  {
   "cell_type": "code",
   "execution_count": 12,
   "metadata": {
    "collapsed": true
   },
   "outputs": [],
   "source": [
    "#salva i link validi\n",
    "with open(\"nuotatori_filtrati.html\",\"w\") as file:\n",
    "    for link in final_strings:\n",
    "        file.write(link+\"\\n\")"
   ]
  },
  {
   "cell_type": "code",
   "execution_count": 13,
   "metadata": {
    "collapsed": true
   },
   "outputs": [],
   "source": [
    "#funzione che dato un link ci ritorna il nome del nuotatore\n",
    "def get_name(url):\n",
    "    r = requests.get(url)\n",
    "    content = r.content\n",
    "    soup = BeautifulSoup(content, \"html.parser\")\n",
    "    a = soup.prettify().replace(\"\\n\", \"\")\n",
    "    a = a.split(\"\"\"color:#000080\">\"\"\")\n",
    "    return a[1].split(\"(\")[0].strip()"
   ]
  },
  {
   "cell_type": "code",
   "execution_count": 14,
   "metadata": {
    "collapsed": true
   },
   "outputs": [],
   "source": [
    "#funzione che dato un link ci ritorna l'anno di nascita del nuotatore\n",
    "def get_class(url):\n",
    "    r = requests.get(url)\n",
    "    content = r.content\n",
    "    soup = BeautifulSoup(content, \"html.parser\")\n",
    "    a = soup.prettify().replace(\"\\n\", \"\")\n",
    "    a = a.split(\"\"\"color:#000080\">\"\"\")\n",
    "    return a[1].split(\"(\")[1][:4]"
   ]
  },
  {
   "cell_type": "code",
   "execution_count": 15,
   "metadata": {
    "collapsed": true
   },
   "outputs": [],
   "source": [
    "#funzione che dato un link ci ritorna data e tempo di ogni gara del nuotatore\n",
    "def get_times_date(url):\n",
    "    r = requests.get(url)\n",
    "    content = r.content\n",
    "    soup = BeautifulSoup(content, \"html.parser\")\n",
    "    a = soup.prettify().replace(\"\\n\", \"\")\n",
    "    first_split = a.split(\"\"\"<td align=\"center\" height=\"20\" style=\" font-family:Verdana, Arial, Helvetica, sans-serif; font-weight:normal; font-style:normal; font-size:10px; color:#000080\" width=\"10%\">\"\"\")\n",
    "    s = \"\"\"</td> <td align=\"left\" height=\"20\" style=\" font-family:Verdana, Arial, Helvetica, sans-serif; font-weight:normal; font-style:normal; font-size:10px; color:#000080\" width=\"40%\">\"\"\"\n",
    "    second_split=[]\n",
    "\n",
    "    for i in first_split:\n",
    "        if s in i:\n",
    "            second_split.append((i[2:10],i[13+len(s):len(s)+23]))\n",
    "    \n",
    "    return second_split"
   ]
  },
  {
   "cell_type": "code",
   "execution_count": 16,
   "metadata": {
    "collapsed": true
   },
   "outputs": [],
   "source": [
    "#funzione che dato un link ci ritorna luogo di ogni gara del nuotatore\n",
    "def get_locality(url):\n",
    "    r = requests.get(url)\n",
    "    content = r.content\n",
    "    soup = BeautifulSoup(content, \"html.parser\")\n",
    "    a = soup.prettify().replace(\"\\n\", \"\")\n",
    "    first_split = a.split(\"\"\"</td> <td align=\"left\" height=\"20\" style=\" font-family:Verdana, Arial, Helvetica, sans-serif; font-weight:normal; font-style:normal; font-size:10px; color:#000080\" width=\"40%\">\"\"\")\n",
    "    s=\"\"\"<title>   Federazione Italiana Nuoto\"\"\"\n",
    "    split=[]\n",
    "\n",
    "    for i in first_split:\n",
    "        c = 0\n",
    "        while i[15+c]!= \"-\":\n",
    "            c = c + 1\n",
    "        if i[15:15+(c-1)]!=s:\n",
    "            split.append(i[15:15+(c-1)])\n",
    "        \n",
    "    return split"
   ]
  },
  {
   "cell_type": "code",
   "execution_count": null,
   "metadata": {},
   "outputs": [
    {
     "name": "stdout",
     "output_type": "stream",
     "text": [
      "1.2.3.4.5.6.7.8.9.10.11.12.13.14.15.16.17.18.19.20.21.22.23.24.25.\n",
      "26.27.28.29.30.31.32.33.34.35.36.37.38.39.40.41.42.43.44.45.46.47.48.49.50.\n",
      "51.52.53.54.55.56.57.58.59.60.61.62.63.64.65.66.67.68.69.70.71.72.73.74.75.\n",
      "76.77.78.79.80.81.82.83.84.85.86.87.88.89.90.91.92.93.94.95.96.97.98.99.100.\n",
      "101.102.103.104.105.106.107.108.109.110.111.112.113.114.115.116.117.118.119.120.121.122.123.124.125.\n",
      "126.127.128.129.130.131.132.133.134.135.136.137.138.139.140.141.142.143.144.145.146.147.148.149.150.\n",
      "151.152.153.154.155.156.157.158.159.160.161.162.163.164.165.166.167.168.169.170.171.172.173.174.175.\n",
      "176.177.178.179.180.181.182.183.184.185.186.187.188.189.190.191.192.193.194.195.196.197.198.199.200.\n",
      "201.202.203.204.205.206.207.208.209.210.211.212.213.214.215.216.217.218.219.220.221.222.223.224.225.\n",
      "226.227.228.229.230.231.232.233.234.235.236.237.238.239.240.241.242.243.244.245.246.247.248.249.250.\n",
      "251.252.253.254.255."
     ]
    }
   ],
   "source": [
    "#creo una lista di nuotatori\n",
    "swimmers = []\n",
    "i = 1\n",
    "for url in final_strings:\n",
    "    s = Swimmer()\n",
    "    s.url = url\n",
    "    s.name = get_name(url)\n",
    "    s.times_date = get_times_date(url)\n",
    "    s.year = get_class(url)\n",
    "    s.locality = get_locality(url)\n",
    "    swimmers.append(s)\n",
    "    print(str(i) + \".\", end=\"\")\n",
    "    if i % 25 == 0:\n",
    "        print()\n",
    "    i += 1\n",
    "     "
   ]
  },
  {
   "cell_type": "code",
   "execution_count": null,
   "metadata": {},
   "outputs": [],
   "source": [
    "#calcolo il rapporto e gli anni di partecipazione\n",
    "for i in swimmers:\n",
    "    i.fill_partecipation()\n",
    "    i.calc_ratio(starting_year=Year(2000, 2001), ending_year=Year(2017, 2018))\n",
    "    print(i)"
   ]
  },
  {
   "cell_type": "code",
   "execution_count": null,
   "metadata": {
    "collapsed": true
   },
   "outputs": [],
   "source": [
    "#salva nel database i nuotatori con pickle\n",
    "with open(\"nuotatori_db.pkl\",\"wb\") as pkl:\n",
    "    pickle.dump(swimmers, pkl)"
   ]
  }
 ],
 "metadata": {
  "kernelspec": {
   "display_name": "Python 3",
   "language": "python",
   "name": "python3"
  },
  "language_info": {
   "codemirror_mode": {
    "name": "ipython",
    "version": 3
   },
   "file_extension": ".py",
   "mimetype": "text/x-python",
   "name": "python",
   "nbconvert_exporter": "python",
   "pygments_lexer": "ipython3",
   "version": "3.6.3"
  }
 },
 "nbformat": 4,
 "nbformat_minor": 1
}
